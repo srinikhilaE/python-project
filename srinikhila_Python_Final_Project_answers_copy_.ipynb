{
  "nbformat": 4,
  "nbformat_minor": 0,
  "metadata": {
    "colab": {
      "name": "srinikhila_Python Final Project answers copy.",
      "provenance": [],
      "collapsed_sections": []
    },
    "kernelspec": {
      "name": "python3",
      "display_name": "Python 3"
    }
  },
  "cells": [
    {
      "cell_type": "markdown",
      "metadata": {
        "id": "ZPaZWzKAUtW0"
      },
      "source": [
        "# Final Project: Credit Card Clients in Taiwan in 2005 - Box Plots, Count Plots & Histograms"
      ]
    },
    {
      "cell_type": "markdown",
      "metadata": {
        "id": "YxZWCaQCaFZE"
      },
      "source": [
        "---"
      ]
    },
    {
      "cell_type": "markdown",
      "metadata": {
        "id": "uitR6TtIC1Oq"
      },
      "source": [
        "### Context\n",
        "\n",
        "Based on the financial capability of a client, they get a credit limit, i.e., the maximum amount they can spend in a month through a credit card.\n",
        "\n",
        "The credit card companies maintain comprehensive data about each of their clients. By analysing the data, they can know what would be the maximum amount they won't be able to recover from their clients yet able to make a significant profit in a financial year to run a sustainable business.\n",
        "\n",
        "Click on the link provided below to learn about the advantages of having a credit card.\n",
        "\n",
        "[Advantages of a Credit Card](https://www.investopedia.com/articles/pf/10/credit-card-debit-card.asp)"
      ]
    },
    {
      "cell_type": "markdown",
      "metadata": {
        "id": "SEI3nnNZCPEu"
      },
      "source": [
        "---"
      ]
    },
    {
      "cell_type": "markdown",
      "metadata": {
        "id": "NREkvCX5CPox"
      },
      "source": [
        "### Problem Statement\n",
        "\n",
        "The credit card clients dataset is full of irregularities and incorrect values. You need to replace them with the right values. Additionally, you have to create box plots, count plots and histograms to find a specific trend (if there exists) in the dataset."
      ]
    },
    {
      "cell_type": "markdown",
      "metadata": {
        "id": "HsRmwEOoCO5m"
      },
      "source": [
        "---"
      ]
    },
    {
      "cell_type": "markdown",
      "metadata": {
        "id": "ibTCN41WcROt"
      },
      "source": [
        "### Dataset Information\n",
        "\n",
        "This dataset contains information on default payments, demographic factors, credit data, history of payment, and bill statements of credit card clients in Taiwan from April 2005 to September 2005. There are 25 features in the dataset. They are as follows:\n",
        "\n",
        "|Column Name|Description|\n",
        "|-|-|\n",
        "|**ID**|Identification of each credit card client|\n",
        "|||\n",
        "|**LIMIT_BAL**|The maximum amount or credit (in NT dollar) a client can spend in a month (includes individual and family/supplementary credit)|\n",
        "|||\n",
        "|**SEX**|Gender of a client where`1` denotes male client and `2` denotes a female client|\n",
        "|||\n",
        "|**EDUCATION**|Education qualification of a credit card holder|\n",
        "||`1` denotes that a client graduated from a graduate school |\n",
        "||`2` denotes that a client is a university graduate|\n",
        "||`3` denotes that a client is a high school graduate|\n",
        "||`4` denotes that a client graduated from some other institution|\n",
        "||`5` denotes that the graduation status of a client is unknown|\n",
        "|||\n",
        "|**MARRIAGE**|Marital status of a client|\n",
        "||`1` denotes that the client is married|\n",
        "||`2` denotes that the client is single or unmarried|\n",
        "||`3` covers all the other possibilities of marital status such as divorced, widowed, etc.|\n",
        "|||\n",
        "|**`AGE`**|Age of a client in years|\n",
        "|||\n",
        "|**PAY_0**|Repayment status of a client in September 2005|\n",
        "||`-1` denotes the payment is not due|\n",
        "||`1` denotes that the payment is delayed by one month|\n",
        "||`2` denotes that the payment is delayed by two months|\n",
        "||...|\n",
        "||`9` denotes that the payment is delayed by nine months|\n",
        "|||\n",
        "\n",
        "\n",
        "The other columns regarding repayment status of a client are as follows:\n",
        "\n",
        "`PAY_2`: Repayment status of a client in August 2005 (scale same as above)\n",
        "\n",
        "`PAY_3`: Repayment status of a client in July 2005 (scale same as above)\n",
        "\n",
        "`PAY_4`: Repayment status of a client in June 2005 (scale same as above)\n",
        "\n",
        "`PAY_5`: Repayment status of a client in May 2005 (scale same as above)\n",
        "\n",
        "`PAY_6`: Repayment status of a client in April 2005 (scale same as above)\n",
        "\n",
        "`BILL_AMT1`: Amount of bill statement in September 2005 (NT dollar)\n",
        "\n",
        "`BILL_AMT2`: Amount of bill statement in August 2005 (NT dollar)\n",
        "\n",
        "`BILL_AMT3`: Amount of bill statement in July 2005 (NT dollar)\n",
        "\n",
        "`BILL_AMT4`: Amount of bill statement in June 2005 (NT dollar)\n",
        "\n",
        "`BILL_AMT5`: Amount of bill statement in May 2005 (NT dollar)\n",
        "\n",
        "`BILL_AMT6`: Amount of bill statement in April 2005 (NT dollar)\n",
        "\n",
        "`PAY_AMT1`: Amount of previous payment in September 2005 (NT dollar)\n",
        "\n",
        "`PAY_AMT2`: Amount of previous payment in August 2005 (NT dollar)\n",
        "\n",
        "`PAY_AMT3`: Amount of previous payment in July 2005 (NT dollar)\n",
        "\n",
        "`PAY_AMT4`: Amount of previous payment in June 2005 (NT dollar)\n",
        "\n",
        "`PAY_AMT5`: Amount of previous payment in May 2005 (NT dollar)\n",
        "\n",
        "`PAY_AMT6`: Amount of previous payment in April 2005 (NT dollar)\n",
        "\n",
        "`default.payment.next.month`: The default payment status of a client in the following month (October) where \n",
        "\n",
        "  - `1` means `yes` the client is a defaulter i.e., they failed to make the payment due in the following month\n",
        "\n",
        "- `0` means `no` the client is NOT a defaulter i.e., they successfully made the payment due in the following month\n",
        "\n",
        "### Acknowledgements\n",
        "\n",
        "Lichman, M. (2013). UCI Machine Learning Repository [http://archive.ics.uci.edu/ml]. Irvine, CA: University of California, School of Information and \n",
        "Computer Science.\n",
        "\n",
        "Click on the link provided below to get the original dataset from the UCI Machine Learning repository.\n",
        "\n",
        "https://archive.ics.uci.edu/ml/datasets/default+of+credit+card+clients\n"
      ]
    },
    {
      "cell_type": "markdown",
      "metadata": {
        "id": "Qv7lPHVveNv8"
      },
      "source": [
        "---"
      ]
    },
    {
      "cell_type": "markdown",
      "metadata": {
        "id": "A_qt81POeGeX"
      },
      "source": [
        "### Summary of Tasks to Do\n",
        "\n",
        "- Create a Pandas DataFrame for the Credit Card Clients in Taiwan dataset.\n",
        "\n",
        "- The `EDUCATION, MARRIAGE` and `PAY_0` to `PAY_6` columns contain irregular or unwanted values. They need to be replaced with the correct values.\n",
        "\n",
        "- Create box plots and histograms for all the columns containing the continuous numeric values.\n",
        "\n",
        "- Create count plots for all the columns containing the categorical values, i.e., values such as discrete numeric values, string values, dates etc.\n",
        "\n"
      ]
    },
    {
      "cell_type": "markdown",
      "metadata": {
        "id": "iajcSBRmc_Sl"
      },
      "source": [
        "---"
      ]
    },
    {
      "cell_type": "markdown",
      "metadata": {
        "id": "4VMUDyjSZDy2"
      },
      "source": [
        "#### 1. Import Modules\n",
        "\n",
        "First import all the necessary modules to create DataFrame and required graphs mentioned as follows:\n",
        "\n",
        "- `numpy`\n",
        "- `pandas`\n",
        "- `matplotlib.pyplot`\n",
        "- `seaborn`"
      ]
    },
    {
      "cell_type": "code",
      "metadata": {
        "id": "HW5hcd7qbZee"
      },
      "source": [
        "# Import the modules.\n",
        "import numpy as np\n",
        "import pandas as pd\n",
        "import matplotlib.pyplot as plt\n",
        "import seaborn as sns"
      ],
      "execution_count": 15,
      "outputs": []
    },
    {
      "cell_type": "markdown",
      "metadata": {
        "id": "JNdDoonSZI2C"
      },
      "source": [
        "---"
      ]
    },
    {
      "cell_type": "markdown",
      "metadata": {
        "id": "HQzMvWXiZGKv"
      },
      "source": [
        "#### 2. Load The Dataset\n",
        "\n",
        "Load the credit card clients dataset. Here's the link: \n",
        "\n",
        "https://raw.githubusercontent.com/m-narayanan22/datasets/main/UCI_Credit_Card.csv "
      ]
    },
    {
      "cell_type": "code",
      "source": [
        "# Load the dataset.\n",
        "# Dataset link: 'https://raw.githubusercontent.com/m-narayanan22/datasets/main/UCI_Credit_Card.csv'\n",
        "df=pd.read_csv('https://raw.githubusercontent.com/m-narayanan22/datasets/main/UCI_Credit_Card.csv')\n",
        "df"
      ],
      "metadata": {
        "colab": {
          "base_uri": "https://localhost:8080/",
          "height": 488
        },
        "id": "5kYm2VuzC-JW",
        "outputId": "57a29f00-9470-4ce6-9c7a-15f2d01267a2"
      },
      "execution_count": 16,
      "outputs": [
        {
          "output_type": "execute_result",
          "data": {
            "text/plain": [
              "          ID  LIMIT_BAL  SEX  EDUCATION  MARRIAGE  AGE  PAY_0  PAY_2  PAY_3  \\\n",
              "0          1    20000.0    2          2         1   24      2      2     -1   \n",
              "1          2   120000.0    2          2         2   26     -1      2      0   \n",
              "2          3    90000.0    2          2         2   34      0      0      0   \n",
              "3          4    50000.0    2          2         1   37      0      0      0   \n",
              "4          5    50000.0    1          2         1   57     -1      0     -1   \n",
              "...      ...        ...  ...        ...       ...  ...    ...    ...    ...   \n",
              "29995  29996   220000.0    1          3         1   39      0      0      0   \n",
              "29996  29997   150000.0    1          3         2   43     -1     -1     -1   \n",
              "29997  29998    30000.0    1          2         2   37      4      3      2   \n",
              "29998  29999    80000.0    1          3         1   41      1     -1      0   \n",
              "29999  30000    50000.0    1          2         1   46      0      0      0   \n",
              "\n",
              "       PAY_4  ...  BILL_AMT4  BILL_AMT5  BILL_AMT6  PAY_AMT1  PAY_AMT2  \\\n",
              "0         -1  ...        0.0        0.0        0.0       0.0     689.0   \n",
              "1          0  ...     3272.0     3455.0     3261.0       0.0    1000.0   \n",
              "2          0  ...    14331.0    14948.0    15549.0    1518.0    1500.0   \n",
              "3          0  ...    28314.0    28959.0    29547.0    2000.0    2019.0   \n",
              "4          0  ...    20940.0    19146.0    19131.0    2000.0   36681.0   \n",
              "...      ...  ...        ...        ...        ...       ...       ...   \n",
              "29995      0  ...    88004.0    31237.0    15980.0    8500.0   20000.0   \n",
              "29996     -1  ...     8979.0     5190.0        0.0    1837.0    3526.0   \n",
              "29997     -1  ...    20878.0    20582.0    19357.0       0.0       0.0   \n",
              "29998      0  ...    52774.0    11855.0    48944.0   85900.0    3409.0   \n",
              "29999      0  ...    36535.0    32428.0    15313.0    2078.0    1800.0   \n",
              "\n",
              "       PAY_AMT3  PAY_AMT4  PAY_AMT5  PAY_AMT6  default.payment.next.month  \n",
              "0           0.0       0.0       0.0       0.0                           1  \n",
              "1        1000.0    1000.0       0.0    2000.0                           1  \n",
              "2        1000.0    1000.0    1000.0    5000.0                           0  \n",
              "3        1200.0    1100.0    1069.0    1000.0                           0  \n",
              "4       10000.0    9000.0     689.0     679.0                           0  \n",
              "...         ...       ...       ...       ...                         ...  \n",
              "29995    5003.0    3047.0    5000.0    1000.0                           0  \n",
              "29996    8998.0     129.0       0.0       0.0                           0  \n",
              "29997   22000.0    4200.0    2000.0    3100.0                           1  \n",
              "29998    1178.0    1926.0   52964.0    1804.0                           1  \n",
              "29999    1430.0    1000.0    1000.0    1000.0                           1  \n",
              "\n",
              "[30000 rows x 25 columns]"
            ],
            "text/html": [
              "\n",
              "  <div id=\"df-e6e9fe4e-be5a-430e-a9cd-073626bacd92\">\n",
              "    <div class=\"colab-df-container\">\n",
              "      <div>\n",
              "<style scoped>\n",
              "    .dataframe tbody tr th:only-of-type {\n",
              "        vertical-align: middle;\n",
              "    }\n",
              "\n",
              "    .dataframe tbody tr th {\n",
              "        vertical-align: top;\n",
              "    }\n",
              "\n",
              "    .dataframe thead th {\n",
              "        text-align: right;\n",
              "    }\n",
              "</style>\n",
              "<table border=\"1\" class=\"dataframe\">\n",
              "  <thead>\n",
              "    <tr style=\"text-align: right;\">\n",
              "      <th></th>\n",
              "      <th>ID</th>\n",
              "      <th>LIMIT_BAL</th>\n",
              "      <th>SEX</th>\n",
              "      <th>EDUCATION</th>\n",
              "      <th>MARRIAGE</th>\n",
              "      <th>AGE</th>\n",
              "      <th>PAY_0</th>\n",
              "      <th>PAY_2</th>\n",
              "      <th>PAY_3</th>\n",
              "      <th>PAY_4</th>\n",
              "      <th>...</th>\n",
              "      <th>BILL_AMT4</th>\n",
              "      <th>BILL_AMT5</th>\n",
              "      <th>BILL_AMT6</th>\n",
              "      <th>PAY_AMT1</th>\n",
              "      <th>PAY_AMT2</th>\n",
              "      <th>PAY_AMT3</th>\n",
              "      <th>PAY_AMT4</th>\n",
              "      <th>PAY_AMT5</th>\n",
              "      <th>PAY_AMT6</th>\n",
              "      <th>default.payment.next.month</th>\n",
              "    </tr>\n",
              "  </thead>\n",
              "  <tbody>\n",
              "    <tr>\n",
              "      <th>0</th>\n",
              "      <td>1</td>\n",
              "      <td>20000.0</td>\n",
              "      <td>2</td>\n",
              "      <td>2</td>\n",
              "      <td>1</td>\n",
              "      <td>24</td>\n",
              "      <td>2</td>\n",
              "      <td>2</td>\n",
              "      <td>-1</td>\n",
              "      <td>-1</td>\n",
              "      <td>...</td>\n",
              "      <td>0.0</td>\n",
              "      <td>0.0</td>\n",
              "      <td>0.0</td>\n",
              "      <td>0.0</td>\n",
              "      <td>689.0</td>\n",
              "      <td>0.0</td>\n",
              "      <td>0.0</td>\n",
              "      <td>0.0</td>\n",
              "      <td>0.0</td>\n",
              "      <td>1</td>\n",
              "    </tr>\n",
              "    <tr>\n",
              "      <th>1</th>\n",
              "      <td>2</td>\n",
              "      <td>120000.0</td>\n",
              "      <td>2</td>\n",
              "      <td>2</td>\n",
              "      <td>2</td>\n",
              "      <td>26</td>\n",
              "      <td>-1</td>\n",
              "      <td>2</td>\n",
              "      <td>0</td>\n",
              "      <td>0</td>\n",
              "      <td>...</td>\n",
              "      <td>3272.0</td>\n",
              "      <td>3455.0</td>\n",
              "      <td>3261.0</td>\n",
              "      <td>0.0</td>\n",
              "      <td>1000.0</td>\n",
              "      <td>1000.0</td>\n",
              "      <td>1000.0</td>\n",
              "      <td>0.0</td>\n",
              "      <td>2000.0</td>\n",
              "      <td>1</td>\n",
              "    </tr>\n",
              "    <tr>\n",
              "      <th>2</th>\n",
              "      <td>3</td>\n",
              "      <td>90000.0</td>\n",
              "      <td>2</td>\n",
              "      <td>2</td>\n",
              "      <td>2</td>\n",
              "      <td>34</td>\n",
              "      <td>0</td>\n",
              "      <td>0</td>\n",
              "      <td>0</td>\n",
              "      <td>0</td>\n",
              "      <td>...</td>\n",
              "      <td>14331.0</td>\n",
              "      <td>14948.0</td>\n",
              "      <td>15549.0</td>\n",
              "      <td>1518.0</td>\n",
              "      <td>1500.0</td>\n",
              "      <td>1000.0</td>\n",
              "      <td>1000.0</td>\n",
              "      <td>1000.0</td>\n",
              "      <td>5000.0</td>\n",
              "      <td>0</td>\n",
              "    </tr>\n",
              "    <tr>\n",
              "      <th>3</th>\n",
              "      <td>4</td>\n",
              "      <td>50000.0</td>\n",
              "      <td>2</td>\n",
              "      <td>2</td>\n",
              "      <td>1</td>\n",
              "      <td>37</td>\n",
              "      <td>0</td>\n",
              "      <td>0</td>\n",
              "      <td>0</td>\n",
              "      <td>0</td>\n",
              "      <td>...</td>\n",
              "      <td>28314.0</td>\n",
              "      <td>28959.0</td>\n",
              "      <td>29547.0</td>\n",
              "      <td>2000.0</td>\n",
              "      <td>2019.0</td>\n",
              "      <td>1200.0</td>\n",
              "      <td>1100.0</td>\n",
              "      <td>1069.0</td>\n",
              "      <td>1000.0</td>\n",
              "      <td>0</td>\n",
              "    </tr>\n",
              "    <tr>\n",
              "      <th>4</th>\n",
              "      <td>5</td>\n",
              "      <td>50000.0</td>\n",
              "      <td>1</td>\n",
              "      <td>2</td>\n",
              "      <td>1</td>\n",
              "      <td>57</td>\n",
              "      <td>-1</td>\n",
              "      <td>0</td>\n",
              "      <td>-1</td>\n",
              "      <td>0</td>\n",
              "      <td>...</td>\n",
              "      <td>20940.0</td>\n",
              "      <td>19146.0</td>\n",
              "      <td>19131.0</td>\n",
              "      <td>2000.0</td>\n",
              "      <td>36681.0</td>\n",
              "      <td>10000.0</td>\n",
              "      <td>9000.0</td>\n",
              "      <td>689.0</td>\n",
              "      <td>679.0</td>\n",
              "      <td>0</td>\n",
              "    </tr>\n",
              "    <tr>\n",
              "      <th>...</th>\n",
              "      <td>...</td>\n",
              "      <td>...</td>\n",
              "      <td>...</td>\n",
              "      <td>...</td>\n",
              "      <td>...</td>\n",
              "      <td>...</td>\n",
              "      <td>...</td>\n",
              "      <td>...</td>\n",
              "      <td>...</td>\n",
              "      <td>...</td>\n",
              "      <td>...</td>\n",
              "      <td>...</td>\n",
              "      <td>...</td>\n",
              "      <td>...</td>\n",
              "      <td>...</td>\n",
              "      <td>...</td>\n",
              "      <td>...</td>\n",
              "      <td>...</td>\n",
              "      <td>...</td>\n",
              "      <td>...</td>\n",
              "      <td>...</td>\n",
              "    </tr>\n",
              "    <tr>\n",
              "      <th>29995</th>\n",
              "      <td>29996</td>\n",
              "      <td>220000.0</td>\n",
              "      <td>1</td>\n",
              "      <td>3</td>\n",
              "      <td>1</td>\n",
              "      <td>39</td>\n",
              "      <td>0</td>\n",
              "      <td>0</td>\n",
              "      <td>0</td>\n",
              "      <td>0</td>\n",
              "      <td>...</td>\n",
              "      <td>88004.0</td>\n",
              "      <td>31237.0</td>\n",
              "      <td>15980.0</td>\n",
              "      <td>8500.0</td>\n",
              "      <td>20000.0</td>\n",
              "      <td>5003.0</td>\n",
              "      <td>3047.0</td>\n",
              "      <td>5000.0</td>\n",
              "      <td>1000.0</td>\n",
              "      <td>0</td>\n",
              "    </tr>\n",
              "    <tr>\n",
              "      <th>29996</th>\n",
              "      <td>29997</td>\n",
              "      <td>150000.0</td>\n",
              "      <td>1</td>\n",
              "      <td>3</td>\n",
              "      <td>2</td>\n",
              "      <td>43</td>\n",
              "      <td>-1</td>\n",
              "      <td>-1</td>\n",
              "      <td>-1</td>\n",
              "      <td>-1</td>\n",
              "      <td>...</td>\n",
              "      <td>8979.0</td>\n",
              "      <td>5190.0</td>\n",
              "      <td>0.0</td>\n",
              "      <td>1837.0</td>\n",
              "      <td>3526.0</td>\n",
              "      <td>8998.0</td>\n",
              "      <td>129.0</td>\n",
              "      <td>0.0</td>\n",
              "      <td>0.0</td>\n",
              "      <td>0</td>\n",
              "    </tr>\n",
              "    <tr>\n",
              "      <th>29997</th>\n",
              "      <td>29998</td>\n",
              "      <td>30000.0</td>\n",
              "      <td>1</td>\n",
              "      <td>2</td>\n",
              "      <td>2</td>\n",
              "      <td>37</td>\n",
              "      <td>4</td>\n",
              "      <td>3</td>\n",
              "      <td>2</td>\n",
              "      <td>-1</td>\n",
              "      <td>...</td>\n",
              "      <td>20878.0</td>\n",
              "      <td>20582.0</td>\n",
              "      <td>19357.0</td>\n",
              "      <td>0.0</td>\n",
              "      <td>0.0</td>\n",
              "      <td>22000.0</td>\n",
              "      <td>4200.0</td>\n",
              "      <td>2000.0</td>\n",
              "      <td>3100.0</td>\n",
              "      <td>1</td>\n",
              "    </tr>\n",
              "    <tr>\n",
              "      <th>29998</th>\n",
              "      <td>29999</td>\n",
              "      <td>80000.0</td>\n",
              "      <td>1</td>\n",
              "      <td>3</td>\n",
              "      <td>1</td>\n",
              "      <td>41</td>\n",
              "      <td>1</td>\n",
              "      <td>-1</td>\n",
              "      <td>0</td>\n",
              "      <td>0</td>\n",
              "      <td>...</td>\n",
              "      <td>52774.0</td>\n",
              "      <td>11855.0</td>\n",
              "      <td>48944.0</td>\n",
              "      <td>85900.0</td>\n",
              "      <td>3409.0</td>\n",
              "      <td>1178.0</td>\n",
              "      <td>1926.0</td>\n",
              "      <td>52964.0</td>\n",
              "      <td>1804.0</td>\n",
              "      <td>1</td>\n",
              "    </tr>\n",
              "    <tr>\n",
              "      <th>29999</th>\n",
              "      <td>30000</td>\n",
              "      <td>50000.0</td>\n",
              "      <td>1</td>\n",
              "      <td>2</td>\n",
              "      <td>1</td>\n",
              "      <td>46</td>\n",
              "      <td>0</td>\n",
              "      <td>0</td>\n",
              "      <td>0</td>\n",
              "      <td>0</td>\n",
              "      <td>...</td>\n",
              "      <td>36535.0</td>\n",
              "      <td>32428.0</td>\n",
              "      <td>15313.0</td>\n",
              "      <td>2078.0</td>\n",
              "      <td>1800.0</td>\n",
              "      <td>1430.0</td>\n",
              "      <td>1000.0</td>\n",
              "      <td>1000.0</td>\n",
              "      <td>1000.0</td>\n",
              "      <td>1</td>\n",
              "    </tr>\n",
              "  </tbody>\n",
              "</table>\n",
              "<p>30000 rows × 25 columns</p>\n",
              "</div>\n",
              "      <button class=\"colab-df-convert\" onclick=\"convertToInteractive('df-e6e9fe4e-be5a-430e-a9cd-073626bacd92')\"\n",
              "              title=\"Convert this dataframe to an interactive table.\"\n",
              "              style=\"display:none;\">\n",
              "        \n",
              "  <svg xmlns=\"http://www.w3.org/2000/svg\" height=\"24px\"viewBox=\"0 0 24 24\"\n",
              "       width=\"24px\">\n",
              "    <path d=\"M0 0h24v24H0V0z\" fill=\"none\"/>\n",
              "    <path d=\"M18.56 5.44l.94 2.06.94-2.06 2.06-.94-2.06-.94-.94-2.06-.94 2.06-2.06.94zm-11 1L8.5 8.5l.94-2.06 2.06-.94-2.06-.94L8.5 2.5l-.94 2.06-2.06.94zm10 10l.94 2.06.94-2.06 2.06-.94-2.06-.94-.94-2.06-.94 2.06-2.06.94z\"/><path d=\"M17.41 7.96l-1.37-1.37c-.4-.4-.92-.59-1.43-.59-.52 0-1.04.2-1.43.59L10.3 9.45l-7.72 7.72c-.78.78-.78 2.05 0 2.83L4 21.41c.39.39.9.59 1.41.59.51 0 1.02-.2 1.41-.59l7.78-7.78 2.81-2.81c.8-.78.8-2.07 0-2.86zM5.41 20L4 18.59l7.72-7.72 1.47 1.35L5.41 20z\"/>\n",
              "  </svg>\n",
              "      </button>\n",
              "      \n",
              "  <style>\n",
              "    .colab-df-container {\n",
              "      display:flex;\n",
              "      flex-wrap:wrap;\n",
              "      gap: 12px;\n",
              "    }\n",
              "\n",
              "    .colab-df-convert {\n",
              "      background-color: #E8F0FE;\n",
              "      border: none;\n",
              "      border-radius: 50%;\n",
              "      cursor: pointer;\n",
              "      display: none;\n",
              "      fill: #1967D2;\n",
              "      height: 32px;\n",
              "      padding: 0 0 0 0;\n",
              "      width: 32px;\n",
              "    }\n",
              "\n",
              "    .colab-df-convert:hover {\n",
              "      background-color: #E2EBFA;\n",
              "      box-shadow: 0px 1px 2px rgba(60, 64, 67, 0.3), 0px 1px 3px 1px rgba(60, 64, 67, 0.15);\n",
              "      fill: #174EA6;\n",
              "    }\n",
              "\n",
              "    [theme=dark] .colab-df-convert {\n",
              "      background-color: #3B4455;\n",
              "      fill: #D2E3FC;\n",
              "    }\n",
              "\n",
              "    [theme=dark] .colab-df-convert:hover {\n",
              "      background-color: #434B5C;\n",
              "      box-shadow: 0px 1px 3px 1px rgba(0, 0, 0, 0.15);\n",
              "      filter: drop-shadow(0px 1px 2px rgba(0, 0, 0, 0.3));\n",
              "      fill: #FFFFFF;\n",
              "    }\n",
              "  </style>\n",
              "\n",
              "      <script>\n",
              "        const buttonEl =\n",
              "          document.querySelector('#df-e6e9fe4e-be5a-430e-a9cd-073626bacd92 button.colab-df-convert');\n",
              "        buttonEl.style.display =\n",
              "          google.colab.kernel.accessAllowed ? 'block' : 'none';\n",
              "\n",
              "        async function convertToInteractive(key) {\n",
              "          const element = document.querySelector('#df-e6e9fe4e-be5a-430e-a9cd-073626bacd92');\n",
              "          const dataTable =\n",
              "            await google.colab.kernel.invokeFunction('convertToInteractive',\n",
              "                                                     [key], {});\n",
              "          if (!dataTable) return;\n",
              "\n",
              "          const docLinkHtml = 'Like what you see? Visit the ' +\n",
              "            '<a target=\"_blank\" href=https://colab.research.google.com/notebooks/data_table.ipynb>data table notebook</a>'\n",
              "            + ' to learn more about interactive tables.';\n",
              "          element.innerHTML = '';\n",
              "          dataTable['output_type'] = 'display_data';\n",
              "          await google.colab.output.renderOutput(dataTable, element);\n",
              "          const docLink = document.createElement('div');\n",
              "          docLink.innerHTML = docLinkHtml;\n",
              "          element.appendChild(docLink);\n",
              "        }\n",
              "      </script>\n",
              "    </div>\n",
              "  </div>\n",
              "  "
            ]
          },
          "metadata": {},
          "execution_count": 16
        }
      ]
    },
    {
      "cell_type": "markdown",
      "metadata": {
        "id": "1LsGwPIgXkpy"
      },
      "source": [
        "Find out how many rows and columns are there in the dataset."
      ]
    },
    {
      "cell_type": "code",
      "metadata": {
        "id": "9IOUoHQecnev",
        "colab": {
          "base_uri": "https://localhost:8080/"
        },
        "outputId": "7cb488db-f1d4-46d1-b1d5-925fbe3111f4"
      },
      "source": [
        "# Number of rows and columns using the 'shape' function.\n",
        "df.shape\n"
      ],
      "execution_count": 17,
      "outputs": [
        {
          "output_type": "execute_result",
          "data": {
            "text/plain": [
              "(30000, 25)"
            ]
          },
          "metadata": {},
          "execution_count": 17
        }
      ]
    },
    {
      "cell_type": "markdown",
      "source": [
        "**Q**: How many rows are there in the dataset?\n",
        "\n",
        "**A**: rows=30000\n"
      ],
      "metadata": {
        "id": "inVhOfta4PfW"
      }
    },
    {
      "cell_type": "markdown",
      "metadata": {
        "id": "Yhkut6Y-ZoVE"
      },
      "source": [
        "---"
      ]
    },
    {
      "cell_type": "markdown",
      "metadata": {
        "id": "YGT3D9AIZpJB"
      },
      "source": [
        "#### 3. Check For The Missing Values\n",
        "\n",
        "Now, check whether the dataset contains any `NaN` or null or missing values."
      ]
    },
    {
      "cell_type": "code",
      "metadata": {
        "id": "L5II9k_sS24S",
        "colab": {
          "base_uri": "https://localhost:8080/"
        },
        "outputId": "6cde12d7-aadf-463a-af89-327282832f84"
      },
      "source": [
        "# Check for the missing values by using the 'sum()' function on top of the 'isnull()' function.\n",
        "df.isnull().sum()"
      ],
      "execution_count": 18,
      "outputs": [
        {
          "output_type": "execute_result",
          "data": {
            "text/plain": [
              "ID                            0\n",
              "LIMIT_BAL                     0\n",
              "SEX                           0\n",
              "EDUCATION                     0\n",
              "MARRIAGE                      0\n",
              "AGE                           0\n",
              "PAY_0                         0\n",
              "PAY_2                         0\n",
              "PAY_3                         0\n",
              "PAY_4                         0\n",
              "PAY_5                         0\n",
              "PAY_6                         0\n",
              "BILL_AMT1                     0\n",
              "BILL_AMT2                     0\n",
              "BILL_AMT3                     0\n",
              "BILL_AMT4                     0\n",
              "BILL_AMT5                     0\n",
              "BILL_AMT6                     0\n",
              "PAY_AMT1                      0\n",
              "PAY_AMT2                      0\n",
              "PAY_AMT3                      0\n",
              "PAY_AMT4                      0\n",
              "PAY_AMT5                      0\n",
              "PAY_AMT6                      0\n",
              "default.payment.next.month    0\n",
              "dtype: int64"
            ]
          },
          "metadata": {},
          "execution_count": 18
        }
      ]
    },
    {
      "cell_type": "markdown",
      "metadata": {
        "id": "7VWeo4qrWHAK"
      },
      "source": [
        "**Q:** Are there any columns containing the missing values? If 'yes', name them.\n",
        "\n",
        "**A:**columns containing the missing values are as follows\n",
        " ID                     0\n",
        "\n",
        "LIMIT_BAL                     0\n",
        "\n",
        "SEX                           0\n",
        "\n",
        "EDUCATION                     0\n",
        "\n",
        "MARRIAGE                      0\n",
        "\n",
        "AGE                           0\n",
        "\n",
        "PAY_0                         0\n",
        "\n",
        "PAY_2                         0\n",
        "\n",
        "PAY_3                         0\n",
        "\n",
        "PAY_4                         0\n",
        "\n",
        "PAY_5                         0\n",
        "\n",
        "PAY_6                         0\n",
        "\n",
        "BILL_AMT1                     0\n",
        "\n",
        "BILL_AMT2                     0\n",
        "\n",
        "BILL_AMT3                     0\n",
        "\n",
        "BILL_AMT4                     0\n",
        "\n",
        "BILL_AMT5                     0\n",
        "\n",
        "BILL_AMT6                     0\n",
        "\n",
        "PAY_AMT1                      0\n",
        "\n",
        "PAY_AMT2                      0\n",
        "\n",
        "PAY_AMT3                      0\n",
        "\n",
        "PAY_AMT4                      0\n",
        "\n",
        "PAY_AMT5                      0\n",
        "\n",
        "PAY_AMT6                      0\n",
        "\n",
        "default.payment.next.month    0"
      ]
    },
    {
      "cell_type": "markdown",
      "metadata": {
        "id": "j4eOB_9EZtio"
      },
      "source": [
        "---"
      ]
    },
    {
      "cell_type": "markdown",
      "metadata": {
        "id": "BHZKoJZ8Y1z0"
      },
      "source": [
        "### 4. Data Cleaning\n",
        "\n",
        "The `EDUCATION`, and `MARRIAGE` columns contain irregular values. You need to replace them with the correct values.\n",
        "\n",
        "**Change**: Check which columns are having irregular values. Replace them with the correct values.\n"
      ]
    },
    {
      "cell_type": "markdown",
      "metadata": {
        "id": "d9LO_vyTZofH"
      },
      "source": [
        "---"
      ]
    },
    {
      "cell_type": "markdown",
      "metadata": {
        "id": "-S4NFBVHV9ge"
      },
      "source": [
        "#### 4.1 Education Qualification of Clients\n",
        "\n",
        "The `EDUCATION` column must contain the following five different types of values:\n",
        "\n",
        "- `1` denotes that a client graduated from a graduate school \n",
        "\n",
        "- `2` denotes that a client is a university graduate\n",
        "\n",
        "- `3` denotes that a client is a high school graduate\n",
        "\n",
        "- `4` denotes that a client graduated from some other institution\n",
        "\n",
        "- `5` denotes that the graduation status of a client is unknown\n",
        "\n",
        "If there are any other values in the `EDUCATION` column, replace them with `5`. Also, get the counts of each value.\n",
        "\n",
        "Calculate the counts of each value in the `EDUCATION` column."
      ]
    },
    {
      "cell_type": "code",
      "metadata": {
        "id": "tWxRPBq5uEOG",
        "colab": {
          "base_uri": "https://localhost:8080/"
        },
        "outputId": "17626df6-50d4-4f9e-a69c-9043a7d4541e"
      },
      "source": [
        "# Counts of each value in the 'EDUCATION' column. \n",
        "df_value_counts=df['EDUCATION'].value_counts()\n",
        "df_value_counts\n"
      ],
      "execution_count": 19,
      "outputs": [
        {
          "output_type": "execute_result",
          "data": {
            "text/plain": [
              "2    14030\n",
              "1    10585\n",
              "3     4917\n",
              "5      280\n",
              "4      123\n",
              "6       51\n",
              "0       14\n",
              "Name: EDUCATION, dtype: int64"
            ]
          },
          "metadata": {},
          "execution_count": 19
        }
      ]
    },
    {
      "cell_type": "markdown",
      "metadata": {
        "id": "bSbd-GGTOi1f"
      },
      "source": [
        "**Hint**: You can get the counts of each value in the 'EDUCATION' column by using the `value_counts()` function."
      ]
    },
    {
      "cell_type": "markdown",
      "metadata": {
        "id": "hLPc25NiNxPh"
      },
      "source": [
        "**Q:** What value(s) is/are contained in the `EDUCATION` column apart from the values `1` to `5`? And what will you do with them?\n",
        "\n",
        "**A:** a part from 1 to 5 in 'EDUCATION'column  there are 2 values 0 ,6\n",
        "\n",
        "so, replace 0,6 with 5 as shown below.\n"
      ]
    },
    {
      "cell_type": "code",
      "metadata": {
        "id": "-JJX4hJCx2jW"
      },
      "source": [
        "# Replace the unwanted values in the 'EDUCATION' column. Ignore if there are none\n",
        "df.loc[df['EDUCATION']==0,'EDUCATION']=5\n",
        "df.loc[df['EDUCATION']==6,'EDUCATION']=5\n"
      ],
      "execution_count": 20,
      "outputs": []
    },
    {
      "cell_type": "markdown",
      "metadata": {
        "id": "GavshQy1Pinm"
      },
      "source": [
        "**Hint**: You can replace the rows with `0` and `6` in the `Education` column by using the `loc[]` function.\n",
        "\n",
        "**Syntax**: `df.loc[df['column_name'] == old_value, 'EDUCATION'] = new_value`"
      ]
    },
    {
      "cell_type": "markdown",
      "metadata": {
        "id": "IF0utc8CJ1D5"
      },
      "source": [
        "Calculate the percentage of each value in the `EDUCATION` column."
      ]
    },
    {
      "cell_type": "code",
      "metadata": {
        "id": "e1zqGseoWbND",
        "colab": {
          "base_uri": "https://localhost:8080/"
        },
        "outputId": "9fc33612-e95a-4edc-e84f-438c76f2f3c2"
      },
      "source": [
        "# Percentage of each value in the 'EDUCATION' column.\n",
        "\n",
        "percent=(df['EDUCATION'].value_counts()/df.shape[0])*100\n",
        "percent"
      ],
      "execution_count": 21,
      "outputs": [
        {
          "output_type": "execute_result",
          "data": {
            "text/plain": [
              "2    46.766667\n",
              "1    35.283333\n",
              "3    16.390000\n",
              "5     1.150000\n",
              "4     0.410000\n",
              "Name: EDUCATION, dtype: float64"
            ]
          },
          "metadata": {},
          "execution_count": 21
        }
      ]
    },
    {
      "cell_type": "markdown",
      "metadata": {
        "id": "sg9C8sEKP4A3"
      },
      "source": [
        "**Hint**: You can get the total number of counts of each value in the column by using the `value_counts()` function. Then you can calculate the percentage of each value by multiplying the total number of counts of each value with 100 and dividing the resultant value by the total number of rows in the DataFrame (`df.shape[0]`)."
      ]
    },
    {
      "cell_type": "markdown",
      "metadata": {
        "id": "VnlJ8xZYWhhK"
      },
      "source": [
        "**Q:** What percent of clients were university graduates?\n",
        "\n",
        "**A:**University graduate clients percent=46.766667"
      ]
    },
    {
      "cell_type": "markdown",
      "metadata": {
        "id": "glaDE9aQJ-0c"
      },
      "source": [
        "Create a count plot for the `EDUCATION` column."
      ]
    },
    {
      "cell_type": "code",
      "metadata": {
        "id": "XBSKyKnRWmjG",
        "colab": {
          "base_uri": "https://localhost:8080/",
          "height": 388
        },
        "outputId": "f12006cf-1ffb-4a44-8ac8-11fbcceff465"
      },
      "source": [
        "# Count plot for the 'EDUCATION' column using the 'countplot()' function of 'seaborn' module.\n",
        "plt.figure(figsize= (20,6))\n",
        "sns.countplot(x =\"EDUCATION\",data=df)\n",
        "plt.grid()"
      ],
      "execution_count": 22,
      "outputs": [
        {
          "output_type": "display_data",
          "data": {
            "text/plain": [
              "<Figure size 1440x432 with 1 Axes>"
            ],
            "image/png": "[encoded data removed]"
          },
          "metadata": {
            "needs_background": "light"
          }
        }
      ]
    },
    {
      "cell_type": "markdown",
      "metadata": {
        "id": "52awGQaUZhia"
      },
      "source": [
        "---"
      ]
    },
    {
      "cell_type": "markdown",
      "metadata": {
        "id": "h9Evm0hFFEsk"
      },
      "source": [
        "#### 4.2 The `info()` Function\n",
        "\n",
        "You may require to check the data-type of every column. So, instead of applying the `dtype` keyword one-by-one for each column, you can use the `info()` function to check the data-types of all the columns at once. It also tells you the total number of rows and columns in a DataFrame. Here's the syntax:\n",
        "\n",
        "**Syntax:** `data_frame.info()`\n",
        "\n",
        "where `data_frame` is a variable storing some Pandas DataFrame.\n",
        "\n",
        "**Note:** This function is applicable only to Pandas DataFrame."
      ]
    },
    {
      "cell_type": "code",
      "metadata": {
        "id": "JqTMqAOwFX03",
        "colab": {
          "base_uri": "https://localhost:8080/"
        },
        "outputId": "f34a82c8-de3c-457c-9f65-80ed37a45efe"
      },
      "source": [
        "# Check the data-types of all the columns using the 'info()' function.\n",
        "df.info()\n"
      ],
      "execution_count": 23,
      "outputs": [
        {
          "output_type": "stream",
          "name": "stdout",
          "text": [
            "<class 'pandas.core.frame.DataFrame'>\n",
            "RangeIndex: 30000 entries, 0 to 29999\n",
            "Data columns (total 25 columns):\n",
            " #   Column                      Non-Null Count  Dtype  \n",
            "---  ------                      --------------  -----  \n",
            " 0   ID                          30000 non-null  int64  \n",
            " 1   LIMIT_BAL                   30000 non-null  float64\n",
            " 2   SEX                         30000 non-null  int64  \n",
            " 3   EDUCATION                   30000 non-null  int64  \n",
            " 4   MARRIAGE                    30000 non-null  int64  \n",
            " 5   AGE                         30000 non-null  int64  \n",
            " 6   PAY_0                       30000 non-null  int64  \n",
            " 7   PAY_2                       30000 non-null  int64  \n",
            " 8   PAY_3                       30000 non-null  int64  \n",
            " 9   PAY_4                       30000 non-null  int64  \n",
            " 10  PAY_5                       30000 non-null  int64  \n",
            " 11  PAY_6                       30000 non-null  int64  \n",
            " 12  BILL_AMT1                   30000 non-null  float64\n",
            " 13  BILL_AMT2                   30000 non-null  float64\n",
            " 14  BILL_AMT3                   30000 non-null  float64\n",
            " 15  BILL_AMT4                   30000 non-null  float64\n",
            " 16  BILL_AMT5                   30000 non-null  float64\n",
            " 17  BILL_AMT6                   30000 non-null  float64\n",
            " 18  PAY_AMT1                    30000 non-null  float64\n",
            " 19  PAY_AMT2                    30000 non-null  float64\n",
            " 20  PAY_AMT3                    30000 non-null  float64\n",
            " 21  PAY_AMT4                    30000 non-null  float64\n",
            " 22  PAY_AMT5                    30000 non-null  float64\n",
            " 23  PAY_AMT6                    30000 non-null  float64\n",
            " 24  default.payment.next.month  30000 non-null  int64  \n",
            "dtypes: float64(13), int64(12)\n",
            "memory usage: 5.7 MB\n"
          ]
        }
      ]
    },
    {
      "cell_type": "markdown",
      "metadata": {
        "id": "TEz4InrYFhaZ"
      },
      "source": [
        "As you can see, the data-types of all the columns are now available to you at once."
      ]
    },
    {
      "cell_type": "markdown",
      "metadata": {
        "id": "_goNOFwUY0R2"
      },
      "source": [
        "---"
      ]
    },
    {
      "cell_type": "markdown",
      "metadata": {
        "id": "d-uGntI1W8Mc"
      },
      "source": [
        "#### 4.3 Marital Status of Clients\n",
        "\n",
        "The `MARRIAGE` column the contain the following three different types of values:\n",
        "\n",
        " - `1` denotes that a client is married\n",
        " \n",
        " - `2` denotes that a client is single\n",
        " \n",
        " - `3` denotes all other possible marital statuses such as divorced, widowed etc.\n",
        "\n",
        "If there are any other values, then they should be replaced with `3` because it covers all the other possible cases of marital status of a client.\n",
        "\n",
        "Calculate the counts of each value in the `MARRIAGE` column."
      ]
    },
    {
      "cell_type": "code",
      "metadata": {
        "id": "X-n0yzoLXArk",
        "colab": {
          "base_uri": "https://localhost:8080/"
        },
        "outputId": "62810e6d-e9f1-434b-ce5b-b4259724f089"
      },
      "source": [
        "# Counts of each value in the 'MARRIAGE' column.\n",
        "dataset2=df['MARRIAGE'].value_counts()\n",
        "dataset2 \n"
      ],
      "execution_count": 24,
      "outputs": [
        {
          "output_type": "execute_result",
          "data": {
            "text/plain": [
              "2    15964\n",
              "1    13659\n",
              "3      323\n",
              "0       54\n",
              "Name: MARRIAGE, dtype: int64"
            ]
          },
          "metadata": {},
          "execution_count": 24
        }
      ]
    },
    {
      "cell_type": "markdown",
      "metadata": {
        "id": "xOq_uYEcM43G"
      },
      "source": [
        "**Q:** What value(s) is/are contained in the `MARRIAGE` column apart from the values `1, 2` and `3`? What are their counts?\n",
        "\n",
        "**A:** the value is contained in MARRIAGE apart from 1,2,3 is : 0\n",
        "\n",
        "the value count of 0 is : 54\n"
      ]
    },
    {
      "cell_type": "code",
      "metadata": {
        "id": "v-OzFIYCtcKf"
      },
      "source": [
        "# Replace the unwanted values ('0') in the 'MARRIAGE' column with '3'. Ignore if there are none.\n",
        "df.loc[df['MARRIAGE']==0,'MARRIAGE']=3\n",
        "df.loc[df['MARRIAGE']==6,'MARRIAGE']=3"
      ],
      "execution_count": 25,
      "outputs": []
    },
    {
      "cell_type": "markdown",
      "metadata": {
        "id": "x5K2b9slLw4d"
      },
      "source": [
        "Calculate the percentage of the values in the `MARRIAGE` column.\n",
        "\n",
        "MARRIAGE=45.530000 percent"
      ]
    },
    {
      "cell_type": "code",
      "metadata": {
        "id": "LrtddCErXOdf",
        "colab": {
          "base_uri": "https://localhost:8080/"
        },
        "outputId": "74b50fc2-40ba-4585-c53d-b158bac858fd"
      },
      "source": [
        "# Percentage of the values in the 'MARRIAGE' column.\n",
        "percent=(df['MARRIAGE'].value_counts()/df.shape[0])*100\n",
        "percent"
      ],
      "execution_count": 26,
      "outputs": [
        {
          "output_type": "execute_result",
          "data": {
            "text/plain": [
              "2    53.213333\n",
              "1    45.530000\n",
              "3     1.256667\n",
              "Name: MARRIAGE, dtype: float64"
            ]
          },
          "metadata": {},
          "execution_count": 26
        }
      ]
    },
    {
      "cell_type": "markdown",
      "metadata": {
        "id": "WBcegrFxXTwX"
      },
      "source": [
        "**Q:** What  of clients were married?\n",
        "\n",
        "**A:**\n",
        "clients married = 13659\n",
        "\n",
        "percent of clients married = 45.530000 \n",
        "\n"
      ]
    },
    {
      "cell_type": "markdown",
      "metadata": {
        "id": "oI7WUXNaM2zP"
      },
      "source": [
        "Create a count plot for the `MARRIAGE` column."
      ]
    },
    {
      "cell_type": "code",
      "metadata": {
        "id": "gGV27gv-XgqW",
        "colab": {
          "base_uri": "https://localhost:8080/",
          "height": 388
        },
        "outputId": "03b74410-8b1e-4fab-f740-de78395e2d9f"
      },
      "source": [
        "# Count plot for the 'MARRIAGE' column.\n",
        "plt.figure(figsize= (20,6))\n",
        "sns.countplot(x =\"MARRIAGE\",data=df)\n",
        "plt.grid()"
      ],
      "execution_count": 27,
      "outputs": [
        {
          "output_type": "display_data",
          "data": {
            "text/plain": [
              "<Figure size 1440x432 with 1 Axes>"
            ],
            "image/png": "[encoded data removed]"
          },
          "metadata": {
            "needs_background": "light"
          }
        }
      ]
    },
    {
      "cell_type": "markdown",
      "metadata": {
        "id": "ScpyyHo0Wlrm"
      },
      "source": [
        "---"
      ]
    },
    {
      "cell_type": "markdown",
      "metadata": {
        "id": "k6Ueda22tzi6"
      },
      "source": [
        "### 5. Box Plots & Histograms\n",
        "\n",
        "The final task is to create box plots and histograms for the columns containing continuous numeric values. \n",
        "\n",
        "**Note:** All the histograms must have grids."
      ]
    },
    {
      "cell_type": "markdown",
      "metadata": {
        "id": "WlT2sWDouK4Q"
      },
      "source": [
        "#### 5.1 Box Plot & Histogram For The `AGE` Column\n",
        "\n",
        "Create a box plot for the `AGE` column."
      ]
    },
    {
      "cell_type": "code",
      "metadata": {
        "id": "3uYJTGxBuLH_",
        "colab": {
          "base_uri": "https://localhost:8080/",
          "height": 389
        },
        "outputId": "00c21762-cbdf-463f-b0dd-2cf9875733ae"
      },
      "source": [
        "# Box plot for the 'AGE' column using the 'boxplot()' function.\n",
        "plt.figure(figsize=[10,5])\n",
        "sns.boxplot(df['AGE'])\n",
        "plt.grid()\n",
        "plt.show()"
      ],
      "execution_count": 28,
      "outputs": [
        {
          "output_type": "stream",
          "name": "stderr",
          "text": [
            "/usr/local/lib/python3.7/dist-packages/seaborn/_decorators.py:43: FutureWarning: Pass the following variable as a keyword arg: x. From version 0.12, the only valid positional argument will be `data`, and passing other arguments without an explicit keyword will result in an error or misinterpretation.\n",
            "  FutureWarning\n"
          ]
        },
        {
          "output_type": "display_data",
          "data": {
            "text/plain": [
              "<Figure size 720x360 with 1 Axes>"
            ],
            "image/png": "[encoded data removed]"
          },
          "metadata": {
            "needs_background": "light"
          }
        }
      ]
    },
    {
      "cell_type": "code",
      "source": [
        "H=pd.Series([24,26,34,37,57])\n",
        "print(H.median())\n"
      ],
      "metadata": {
        "colab": {
          "base_uri": "https://localhost:8080/"
        },
        "id": "3cj-_MtSrpOh",
        "outputId": "8789d5e1-d5fd-4fa0-b760-a141067c67fe"
      },
      "execution_count": 29,
      "outputs": [
        {
          "output_type": "stream",
          "name": "stdout",
          "text": [
            "34.0\n"
          ]
        }
      ]
    },
    {
      "cell_type": "markdown",
      "metadata": {
        "id": "arXjrCag7eoj"
      },
      "source": [
        "**Q:** From the box plot for the `AGE` column, what is the approx median age of a credit card holder?\n",
        "\n",
        "**A:**\n",
        "From the box plot for the `AGE` column \n",
        "\n",
        "the approx median age of a credit card holder is \n",
        "34.0 "
      ]
    },
    {
      "cell_type": "markdown",
      "metadata": {
        "id": "xqZJGQBnunIV"
      },
      "source": [
        "Create a histogram for the `AGE` column."
      ]
    },
    {
      "cell_type": "code",
      "metadata": {
        "id": "MmkX2qrsurhZ",
        "colab": {
          "base_uri": "https://localhost:8080/",
          "height": 459
        },
        "outputId": "e48d3e4f-cc9e-4b96-d229-ee7f4dfba51c"
      },
      "source": [
        "# Histogram for the 'AGE' column using 'distplot()' function from the 'seaborn' module.\n",
        "import matplotlib.pyplot as plt\n",
        "plt.figure(figsize=(10,6))\n",
        "sns.distplot(df['AGE'],bins=40,kde=False)\n",
        "plt.ticklabel_format(style='plain')\n",
        "plt.xlabel('AGE')\n",
        "plt.ylabel('Frequency')\n",
        "plt.title('Age distribution')\n",
        "plt.show()\n"
      ],
      "execution_count": 35,
      "outputs": [
        {
          "output_type": "stream",
          "name": "stderr",
          "text": [
            "/usr/local/lib/python3.7/dist-packages/seaborn/distributions.py:2619: FutureWarning: `distplot` is a deprecated function and will be removed in a future version. Please adapt your code to use either `displot` (a figure-level function with similar flexibility) or `histplot` (an axes-level function for histograms).\n",
            "  warnings.warn(msg, FutureWarning)\n"
          ]
        },
        {
          "output_type": "display_data",
          "data": {
            "text/plain": [
              "<Figure size 720x432 with 1 Axes>"
            ],
            "image/png": "[encoded data removed]"
          },
          "metadata": {
            "needs_background": "light"
          }
        }
      ]
    },
    {
      "cell_type": "markdown",
      "metadata": {
        "id": "5cv9jULXxDe-"
      },
      "source": [
        "**Q:** Is there some peculiar pattern in the `AGE` histogram?\n",
        "\n",
        "**A:**\n",
        "Yes in the graph we can see in x axis i.e., AGE after 70 to 80 there is peculiar pattern i.e., there is no frequency\n",
        "\n"
      ]
    },
    {
      "cell_type": "markdown",
      "metadata": {
        "id": "3D1h9Cx1ug1h"
      },
      "source": [
        "---"
      ]
    },
    {
      "cell_type": "markdown",
      "metadata": {
        "id": "DYyGboDnvXtr"
      },
      "source": [
        "#### 5.2 Box Plot & Histogram For The `LIMIT_BAL` Column\n",
        "\n",
        "Create a box plot for the `LIMIT_BAL` column."
      ]
    },
    {
      "cell_type": "code",
      "metadata": {
        "id": "aTwEfWF6zDuj",
        "colab": {
          "base_uri": "https://localhost:8080/",
          "height": 461
        },
        "outputId": "b3153758-6a27-4a57-8a1b-2c90f896b1ff"
      },
      "source": [
        "# Box plot for the LIMIT_BAL column.\n",
        "\n",
        "plt.figure(figsize=(10,6))\n",
        "sns.boxplot(df['LIMIT_BAL'], color='red')"
      ],
      "execution_count": 33,
      "outputs": [
        {
          "output_type": "stream",
          "name": "stderr",
          "text": [
            "/usr/local/lib/python3.7/dist-packages/seaborn/_decorators.py:43: FutureWarning: Pass the following variable as a keyword arg: x. From version 0.12, the only valid positional argument will be `data`, and passing other arguments without an explicit keyword will result in an error or misinterpretation.\n",
            "  FutureWarning\n"
          ]
        },
        {
          "output_type": "execute_result",
          "data": {
            "text/plain": [
              "<matplotlib.axes._subplots.AxesSubplot at 0x7f14f4750850>"
            ]
          },
          "metadata": {},
          "execution_count": 33
        },
        {
          "output_type": "display_data",
          "data": {
            "text/plain": [
              "<Figure size 720x432 with 1 Axes>"
            ],
            "image/png": "[encoded data removed]"
          },
          "metadata": {
            "needs_background": "light"
          }
        }
      ]
    },
    {
      "cell_type": "markdown",
      "metadata": {
        "id": "ydnRrKDYyxTd"
      },
      "source": [
        "Create a histogram for the `LIMIT_BAL` column using a function from the `seaborn` module."
      ]
    },
    {
      "cell_type": "code",
      "metadata": {
        "id": "-Zi_1PlT8Xug",
        "colab": {
          "base_uri": "https://localhost:8080/",
          "height": 459
        },
        "outputId": "2c751bfe-b9a7-47af-a992-9b393a269d31"
      },
      "source": [
        "# Histogram for the 'LIMIT_BAL' column using 'distplot()' function from the 'seaborn' module.\n",
        "plt.figure(figsize=(20,6))\n",
        "sns.distplot(x=df['LIMIT_BAL'],bins=40,kde=False)"
      ],
      "execution_count": 37,
      "outputs": [
        {
          "output_type": "stream",
          "name": "stderr",
          "text": [
            "/usr/local/lib/python3.7/dist-packages/seaborn/distributions.py:2619: FutureWarning: `distplot` is a deprecated function and will be removed in a future version. Please adapt your code to use either `displot` (a figure-level function with similar flexibility) or `histplot` (an axes-level function for histograms).\n",
            "  warnings.warn(msg, FutureWarning)\n"
          ]
        },
        {
          "output_type": "execute_result",
          "data": {
            "text/plain": [
              "<matplotlib.axes._subplots.AxesSubplot at 0x7f14f23d1790>"
            ]
          },
          "metadata": {},
          "execution_count": 37
        },
        {
          "output_type": "display_data",
          "data": {
            "text/plain": [
              "<Figure size 1440x432 with 1 Axes>"
            ],
            "image/png": "[encoded data removed]"
          },
          "metadata": {
            "needs_background": "light"
          }
        }
      ]
    },
    {
      "cell_type": "markdown",
      "metadata": {
        "id": "swDWbGk7yl6V"
      },
      "source": [
        "Create a histogram (having 50 bins) for the `LIMIT_BAL` column using a function from the `matplotlib.pyplot` module."
      ]
    },
    {
      "cell_type": "code",
      "metadata": {
        "id": "ZvQw9HT7ibAJ",
        "colab": {
          "base_uri": "https://localhost:8080/",
          "height": 387
        },
        "outputId": "e2fdfeab-705d-4ad8-9af5-90905b2b74a6"
      },
      "source": [
        "# Histogram (having 50 bins) for the 'LIMIT_BAL'column using 'hist()'function \n",
        "#from the 'matplotlib.pyplot' module.\n",
        "import matplotlib.pyplot as plt\n",
        "plt.figure(figsize=(10,6))\n",
        "plt.hist(x=df[\"LIMIT_BAL\"],bins=50)\n",
        "plt.grid()\n",
        "plt.show()"
      ],
      "execution_count": 38,
      "outputs": [
        {
          "output_type": "display_data",
          "data": {
            "text/plain": [
              "<Figure size 720x432 with 1 Axes>"
            ],
            "image/png": "[encoded data removed]"
          },
          "metadata": {
            "needs_background": "light"
          }
        }
      ]
    },
    {
      "cell_type": "markdown",
      "metadata": {
        "id": "SQlIHh7YtAN_"
      },
      "source": [
        "**Q:** What happens to the counts of `LIMIT_BAL` values as the `LIMIT_BAL` values increases? What does it signify?\n",
        "\n",
        "**A:** since in the graph there is showing the frequency is in decreasing pattern\n",
        "\n",
        "if the LIMIT_BAL  value increases ,since the histogram frequency is already in decreasing pattern \n",
        "\n",
        "there will be no frequency will present ,\n",
        "\n",
        "so there will be some changes in  clients credit cards\n"
      ]
    },
    {
      "cell_type": "markdown",
      "metadata": {
        "id": "dnkmJarZkINk"
      },
      "source": [
        "---"
      ]
    },
    {
      "cell_type": "markdown",
      "source": [
        "## Report \n",
        "\n",
        "Create a brief final report which explains all the useful insights you got from this project in a document or powerpoint. \n",
        "\n",
        "Submit the report along with the project."
      ],
      "metadata": {
        "id": "q61ep1NRvkRe"
      }
    },
    {
      "cell_type": "markdown",
      "source": [
        "---"
      ],
      "metadata": {
        "id": "gSA4ZC54vjju"
      }
    }
  ]
}